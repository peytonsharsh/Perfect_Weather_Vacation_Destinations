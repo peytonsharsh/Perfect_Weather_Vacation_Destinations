{
 "cells": [
  {
   "cell_type": "code",
   "execution_count": 1,
   "metadata": {},
   "outputs": [],
   "source": [
    "# Dependencies and Setup\n",
    "import matplotlib.pyplot as plt\n",
    "import pandas as pd\n",
    "import numpy as np\n",
    "import requests\n",
    "import gmaps\n",
    "import os\n",
    "\n",
    "# Import API key\n",
    "from api_keys import g_key"
   ]
  },
  {
   "cell_type": "markdown",
   "metadata": {},
   "source": [
    "#### Pull the data into the notebook"
   ]
  },
  {
   "cell_type": "code",
   "execution_count": 2,
   "metadata": {},
   "outputs": [],
   "source": [
    "file_one = \"Output/WeatherCheck.csv\"\n",
    "file_one_df = pd.read_csv(file_one, encoding=\"utf-8\")"
   ]
  },
  {
   "cell_type": "markdown",
   "metadata": {},
   "source": [
    "### Humidity Heatmap\n",
    "\n",
    "Builing a heatmap based on the locations of the csv"
   ]
  },
  {
   "cell_type": "code",
   "execution_count": 3,
   "metadata": {},
   "outputs": [],
   "source": [
    "gmaps.configure(api_key=g_key)"
   ]
  },
  {
   "cell_type": "code",
   "execution_count": 4,
   "metadata": {},
   "outputs": [],
   "source": [
    "locations = file_one_df[[\"Latitude\", \"Longitude\"]].astype(float)\n",
    "humidity = file_one_df[\"Humidity\"].astype(float)"
   ]
  },
  {
   "cell_type": "code",
   "execution_count": 5,
   "metadata": {},
   "outputs": [
    {
     "data": {
      "application/vnd.jupyter.widget-view+json": {
       "model_id": "9474476e0c5d43f3b184fb816bc8ad4e",
       "version_major": 2,
       "version_minor": 0
      },
      "text/plain": [
       "Figure(layout=FigureLayout(height='420px'))"
      ]
     },
     "metadata": {},
     "output_type": "display_data"
    }
   ],
   "source": [
    "fig = gmaps.figure()\n",
    "heat_layer = gmaps.heatmap_layer(locations, weights=humidity, \n",
    "                                 dissipating=False, max_intensity=100,\n",
    "                                 point_radius = 3)\n",
    "fig.add_layer(heat_layer)\n",
    "\n",
    "fig"
   ]
  },
  {
   "cell_type": "markdown",
   "metadata": {},
   "source": [
    "### Finding our Vacation Spots\n",
    "\n",
    "Determining conditions for good vacation spots:\n",
    " - A max temperature lower than 80 degrees but higher than 70.\n",
    " - Wind speed less than 10 mph.\n",
    " - Zero cloudiness.    "
   ]
  },
  {
   "cell_type": "code",
   "execution_count": 6,
   "metadata": {},
   "outputs": [],
   "source": [
    "vacation_spots = file_one_df[file_one_df['Max Temp'] > 70]\n",
    "vacation_spots = vacation_spots[vacation_spots['Max Temp'] < 80]\n",
    "vacation_spots = vacation_spots[vacation_spots['Wind Speed'] < 10]\n",
    "vacation_spots = vacation_spots[vacation_spots['Cloudiness'] == 0]"
   ]
  },
  {
   "cell_type": "markdown",
   "metadata": {},
   "source": [
    "### Hotel Map\n",
    "\n",
    "Create a dataframe to provide a hotel option in the various vacation spots and layer that on top of the heat map"
   ]
  },
  {
   "cell_type": "code",
   "execution_count": 7,
   "metadata": {},
   "outputs": [],
   "source": [
    "vacation_spots[\"Hotel Name\"] = ''\n",
    "vacation_spots = vacation_spots.reset_index()\n",
    "vacation_spots = vacation_spots[['City', 'Cloudiness', 'Country', 'Date', 'Humidity', 'Latitude', 'Longitude', 'Max Temp', \n",
    "                                'Wind Speed', 'Hotel Name']]\n",
    "vacation_spots = pd.DataFrame(vacation_spots)\n",
    "hotel_df = []\n",
    "import json"
   ]
  },
  {
   "cell_type": "code",
   "execution_count": 8,
   "metadata": {},
   "outputs": [
    {
     "name": "stdout",
     "output_type": "stream",
     "text": [
      "Retrieving Results for Index 0: noto at 36.89, 15.07.\n",
      "First hotel in noto  is Zahir Country House.\n",
      "------------\n",
      "Retrieving Results for Index 1: caravelas at -17.71, -39.25.\n",
      "First hotel in caravelas  is Mar Doce de Abrolhos.\n",
      "------------\n",
      "Retrieving Results for Index 2: damavand at 35.72, 52.06.\n",
      "First hotel in damavand  is Avishan Hotel.\n",
      "------------\n",
      "Retrieving Results for Index 3: cap malheureux at -19.98, 57.61.\n",
      "First hotel in cap malheureux  is Paradise Cove Boutique Hotel.\n",
      "------------\n",
      "Retrieving Results for Index 4: poum at -20.23, 164.02.\n",
      "Missing field/result... skipping.\n",
      "------------\n",
      "Retrieving Results for Index 5: vao at -22.67, 167.48.\n",
      "First hotel in vao  is OURE TERA beach resort.\n",
      "------------\n",
      "Retrieving Results for Index 6: saint-francois at 46.42, 3.91.\n",
      "Missing field/result... skipping.\n",
      "------------\n",
      "Retrieving Results for Index 7: kariba at -16.52, 28.8.\n",
      "First hotel in kariba  is Caribbea Bay Resort.\n",
      "------------\n",
      "Retrieving Results for Index 8: aubenas at 44.62, 4.39.\n",
      "First hotel in aubenas  is Château Clément.\n",
      "------------\n",
      "Retrieving Results for Index 9: abu samrah at 35.3, 37.18.\n",
      "Missing field/result... skipping.\n",
      "------------\n",
      "Retrieving Results for Index 10: maragogi at -9.01, -35.22.\n",
      "First hotel in maragogi  is Salinas do Maragogi All Inclusive Resort.\n",
      "------------\n",
      "Retrieving Results for Index 11: sao jose da coroa grande at -8.9, -35.15.\n",
      "First hotel in sao jose da coroa grande  is Pousada Barra Velha.\n",
      "------------\n",
      "Retrieving Results for Index 12: waw at 7.7, 28.0.\n",
      "First hotel in waw  is Hotel Africana.\n",
      "------------\n",
      "Retrieving Results for Index 13: grand gaube at -20.01, 57.66.\n",
      "First hotel in grand gaube  is LUX Grand Gaube Resort & Villas.\n",
      "------------\n",
      "Retrieving Results for Index 14: silvan at 38.14, 41.01.\n",
      "First hotel in silvan  is Silvan Grand Otel.\n",
      "------------\n",
      "Retrieving Results for Index 15: suruc at 36.98, 38.42.\n",
      "First hotel in suruc  is Kumbet Otel.\n",
      "------------\n",
      "Retrieving Results for Index 16: san giovanni valdarno at 43.57, 11.53.\n",
      "First hotel in san giovanni valdarno  is Hotel Villa Casagrande.\n",
      "------------\n"
     ]
    }
   ],
   "source": [
    "for index, row in vacation_spots.iterrows():\n",
    "    \n",
    "    base_url = \"https://maps.googleapis.com/maps/api/place/nearbysearch/json\"\n",
    "    latit = row['Latitude']\n",
    "    longi = row['Longitude']\n",
    "    city = row['City']\n",
    "    \n",
    "    address = f\"{latit}, {longi}\"\n",
    "    \n",
    "    params = {\n",
    "    \"location\": address,\n",
    "    \"keyword\": 'hotel',\n",
    "    \"radius\": 5000,\n",
    "    \"type\": 'lodging',\n",
    "    \"key\": g_key}\n",
    "    \n",
    "    print(f\"Retrieving Results for Index {index}: {city} at {address}.\")\n",
    "    response = requests.get(base_url, params=params).json()\n",
    "    results = response['results']\n",
    "    \n",
    "    try:\n",
    "        print(f\"First hotel in {city}  is {results[0]['name']}.\") \n",
    "        vacation_spots.loc[index, 'Hotel Name'] = results[0]['name']\n",
    "    except (KeyError, IndexError):\n",
    "        print(\"Missing field/result... skipping.\")  \n",
    "    print(\"------------\")"
   ]
  },
  {
   "cell_type": "code",
   "execution_count": 9,
   "metadata": {},
   "outputs": [],
   "source": [
    "narrowed_city_df = vacation_spots.rename(columns={'Latitude': 'Lat', 'Longitude': 'Lng'})\n",
    "narrowed_city_df = narrowed_city_df[narrowed_city_df['Hotel Name'] != \"\"]\n",
    "#narrowed_city_df = narrowed_city_df.rename(columns={'Hotel Name': 'Name'})\n",
    "narrowed_city_df = narrowed_city_df[['Hotel Name', 'City', 'Country', 'Cloudiness', 'Date', 'Humidity', 'Lat', 'Lng', 'Max Temp',\n",
    "                    'Max Temp', 'Wind Speed']]\n",
    "hotel_df = narrowed_city_df"
   ]
  },
  {
   "cell_type": "code",
   "execution_count": 10,
   "metadata": {},
   "outputs": [],
   "source": [
    "# NOTE: Do not change any of the code in this cell\n",
    "\n",
    "# Using the template add the hotel marks to the heatmap\n",
    "info_box_template = \"\"\"\n",
    "<dl>\n",
    "<dt>Name</dt><dd>{Hotel Name}</dd>\n",
    "<dt>City</dt><dd>{City}</dd>\n",
    "<dt>Country</dt><dd>{Country}</dd>\n",
    "</dl>\n",
    "\"\"\"\n",
    "# Store the DataFrame Row\n",
    "# NOTE: be sure to update with your DataFrame name\n",
    "hotel_info = [info_box_template.format(**row) for index, row in narrowed_city_df.iterrows()]\n",
    "locations = hotel_df[[\"Lat\", \"Lng\"]]"
   ]
  },
  {
   "cell_type": "code",
   "execution_count": 11,
   "metadata": {},
   "outputs": [
    {
     "data": {
      "application/vnd.jupyter.widget-view+json": {
       "model_id": "9474476e0c5d43f3b184fb816bc8ad4e",
       "version_major": 2,
       "version_minor": 0
      },
      "text/plain": [
       "Figure(layout=FigureLayout(height='420px'))"
      ]
     },
     "metadata": {},
     "output_type": "display_data"
    }
   ],
   "source": [
    "# Add marker layer ontop of heat map\n",
    "hotel_layer = gmaps.symbol_layer(\n",
    "    locations, fill_color='rgba(0, 150, 0, 0.4)',\n",
    "    stroke_color='rgba(0, 0, 150, 0.4)', scale=3,\n",
    "    info_box_content= hotel_info\n",
    ")\n",
    "    \n",
    "    \n",
    "fig.add_layer(hotel_layer)\n",
    "fig\n",
    "# Display Map"
   ]
  }
 ],
 "metadata": {
  "kernelspec": {
   "display_name": "Python 3",
   "language": "python",
   "name": "python3"
  },
  "language_info": {
   "codemirror_mode": {
    "name": "ipython",
    "version": 3
   },
   "file_extension": ".py",
   "mimetype": "text/x-python",
   "name": "python",
   "nbconvert_exporter": "python",
   "pygments_lexer": "ipython3",
   "version": "3.7.4"
  },
  "latex_envs": {
   "LaTeX_envs_menu_present": true,
   "autoclose": false,
   "autocomplete": true,
   "bibliofile": "biblio.bib",
   "cite_by": "apalike",
   "current_citInitial": 1,
   "eqLabelWithNumbers": true,
   "eqNumInitial": 1,
   "hotkeys": {
    "equation": "Ctrl-E",
    "itemize": "Ctrl-I"
   },
   "labels_anchors": false,
   "latex_user_defs": false,
   "report_style_numbering": false,
   "user_envs_cfg": false
  }
 },
 "nbformat": 4,
 "nbformat_minor": 2
}
